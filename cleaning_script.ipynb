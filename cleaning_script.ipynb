{
 "cells": [
  {
   "cell_type": "markdown",
   "metadata": {},
   "source": [
    "# Get and clean full text\n",
    "\n",
    "In order for better results from our analysis later we need to clean up the full text."
   ]
  },
  {
   "cell_type": "code",
   "execution_count": 1,
   "metadata": {},
   "outputs": [
    {
     "name": "stdout",
     "output_type": "stream",
     "text": [
      "\n",
      " Using item: https://open.library.ubc.ca/collections/bcbooks/items/1.0222301\n"
     ]
    }
   ],
   "source": [
    "ocUrl = 'https://open.library.ubc.ca/'\n",
    "ocApiUrl = 'https://oc-index.library.ubc.ca' # APPY URL\n",
    "apiKey = '46a1fba6ac9c8a7c72bed474c03ea4cccf4cf5b80b633977223315a04c7b1687'\n",
    "\n",
    "collection = 'bcbooks'\n",
    "itemId = '1.0222301'\n",
    "print('\\n Using item: '+ocUrl+'collections/'+collection+'/items/'+itemId)"
   ]
  },
  {
   "cell_type": "markdown",
   "metadata": {},
   "source": [
    "### Getting JSON with metadata:"
   ]
  },
  {
   "cell_type": "code",
   "execution_count": 36,
   "metadata": {},
   "outputs": [
    {
     "name": "stdout",
     "output_type": "stream",
     "text": [
      "{\n",
      "    \"AggregatedSourceRepository\": [\n",
      "        {\n",
      "            \"attrs\": {\n",
      "                \"classmap\": \"ore:Aggregation\",\n",
      "                \"lang\": \"en\",\n",
      "                \"ns\": \"http://www.europeana.eu/schemas/edm/dataProvider\",\n",
      "                \"property\": \"edm:dataProvider\"\n",
      "            },\n",
      "            \"explain\": \"A Europeana Data Model Property; The name or identifier of the organization who contributes data indirectly to an aggregation service (e.g. Europeana)\",\n",
      "            \"iri\": \"http://www.europeana.eu/schemas/edm/dataProvider\",\n",
      "            \"label\": \"AggregatedSourceRepository\",\n",
      "            \"value\": \"CONTENTdm\"\n",
      "        }\n",
      "    ],\n",
      "    \"CatalogueRecord\": [\n",
      "        {\n",
      "            \"attrs\": {\n",
      "                \"classmap\": \"edm:ProvidedCHO\",\n",
      "                \"lang\": \"en\",\n",
      "                \"ns\": \"http://purl.org/dc/terms/isReferencedBy\",\n",
      "                \"property\": \"dcterms:isReferencedBy\"\n",
      "            },\n",
      "            \"explain\": \"A Dublin Core Terms Property; A related resource that references, cites, or\n"
     ]
    }
   ],
   "source": [
    "import json, requests\n",
    "itemUrl = ocApiUrl+'/collections/'+collection+'/items/'+itemId+'?apiKey='+apiKey\n",
    "apiResponse = requests.get(itemUrl).json()\n",
    "item = apiResponse['data']\n",
    "print(json.dumps(item, sort_keys=True, indent=4, separators=(',', ': '))[0:1000])"
   ]
  },
  {
   "cell_type": "markdown",
   "metadata": {},
   "source": [
    "### Getting full text:"
   ]
  },
  {
   "cell_type": "code",
   "execution_count": 38,
   "metadata": {},
   "outputs": [
    {
     "name": "stdout",
     "output_type": "stream",
     "text": [
      "Array Making a start\n",
      "in Canada  MAKING   A  START\n",
      "IN   CANADA\n",
      "LETTERS FROM TWO TOUNG EMIGRANTS\n",
      "-WITH AN  INTRODUCTION\n",
      "BY\n",
      "ALFRED J. CHURCH, M.A.\n",
      "Professor of Latin in University College, London\n",
      "LONDON\n",
      "SEELEY' &*   CO.,   ESSEX   STREET,   STRAND\n",
      "1889  INTRODUCTION.\n",
      "Many young men of what is commonly called\n",
      "the upper middle class yearly leave their country\n",
      "to   seek fortune, or, to  put the case more\n",
      "modestly, subsistence, in Canada.    It has occurred to me, having recently sent two sons to\n",
      "that  country, to publish some extracts from\n",
      "the letters in which they have described their\n",
      "experience, and to say something about their\n",
      "preparations   for   this   undertaking.      Many\n",
      "parents will be glad, I imagine, to know how\n",
      "their sons should be equipped, and what is the\n",
      "sort of life which they actually lead.\n",
      "My two sons, then, when they left England VI\n",
      "Introduction.\n",
      "for Canada, were aged respectively eighteen\n",
      "years one month and sixteen years nine\n",
      "months, and were both strong and well-grown.\n"
     ]
    }
   ],
   "source": [
    "fullText = item['FullText'][0]['value']\n",
    "\n",
    "print(fullText[0:1000])"
   ]
  },
  {
   "cell_type": "markdown",
   "metadata": {},
   "source": [
    "### Removing everything but words:"
   ]
  },
  {
   "cell_type": "code",
   "execution_count": 39,
   "metadata": {},
   "outputs": [
    {
     "name": "stdout",
     "output_type": "stream",
     "text": [
      "Array Making a start in Canada MAKING A START IN CANADA LETTERS FROM TWO TOUNG EMIGRANTS WITH AN INTRODUCTION BY ALFRED J CHURCH M A Professor of Latin in University College London LONDON SEELEY CO ESSEX STREET STRAND 1889 INTRODUCTION Many young men of what is commonly called the upper middle class yearly leave their country to seek fortune or to put the case more modestly subsistence in Canada It has occurred to me having recently sent two sons to that country to publish some extracts from the letters in which they have described their experience and to say something about their preparations for this undertaking Many parents will be glad I imagine to know how their sons should be equipped and what is the sort of life which they actually lead My two sons then when they left England VI Introduction for Canada were aged respectively eighteen years one month and sixteen years nine months and were both strong and well grown I mention this because many lads at the age of the younger of the\n"
     ]
    }
   ],
   "source": [
    "import re\n",
    "\n",
    "# Remove everything but words\n",
    "pattern = re.compile('[\\W_]+')\n",
    "fullText = pattern.sub(' ', fullText)\n",
    "\n",
    "print(fullText[0:1000])"
   ]
  },
  {
   "cell_type": "markdown",
   "metadata": {},
   "source": [
    "### Splitting full text by chapters:"
   ]
  },
  {
   "cell_type": "code",
   "execution_count": 27,
   "metadata": {},
   "outputs": [
    {
     "data": {
      "text/plain": [
       "32"
      ]
     },
     "execution_count": 27,
     "metadata": {},
     "output_type": "execute_result"
    }
   ],
   "source": [
    "fullText_split = fullText.split(\"CHAPTER\")\n",
    "\n",
    "len(fullText_split)"
   ]
  },
  {
   "cell_type": "markdown",
   "metadata": {},
   "source": [
    "### Saving to a text file:"
   ]
  },
  {
   "cell_type": "code",
   "execution_count": 28,
   "metadata": {},
   "outputs": [],
   "source": [
    "fl = open('fullText_split','w')\n",
    "for item in fullText_split:\n",
    "    fl.write('{0}\\n'.format(item))"
   ]
  },
  {
   "cell_type": "markdown",
   "metadata": {},
   "source": [
    "### Processing file in OpenRefine\n",
    "\n",
    "- Import .txt file to Open Refine\n",
    "\n",
    "\n",
    "- Split by month: \n",
    "\n",
    "`value.replace(\"June\",\"| June\").replace(\"July\",\"| July\").replace(\"August\",\"| August\").replace(\"September\",\"| September\").replace(\"October\",\"| October\").replace(\"November\",\"| November\").replace(\"December\",\"| December\").replace(\"January\",\"| January\").replace(\"February\",\"| February\").replace(\"March\",\"| March\").replace(\"April\",\"| April\").replace(\"May\",\"| May\")`\n",
    "\n",
    "Split multi-value cells by \"|\"\n",
    "\n",
    "- Get month: \n",
    "\n",
    "`value.split(' ')[0]`\n",
    "\n",
    "- Check month names and if they appear in order. Manually correct wrong splits.\n",
    "\n",
    "- Manually get chapters names, use fill down to complete.\n",
    "\n",
    "- Delete chapter names rows.\n",
    "\n",
    "- Get year: \n",
    "\n",
    "`value.match(/.*(\\d\\d\\d\\d).*/).join(\"\")`\n",
    "\n",
    "- Export as fullText_edited.csv.\n"
   ]
  },
  {
   "cell_type": "markdown",
   "metadata": {},
   "source": [
    "### Import back file cleaned in OpenRefine:"
   ]
  },
  {
   "cell_type": "code",
   "execution_count": 4,
   "metadata": {},
   "outputs": [
    {
     "data": {
      "text/plain": [
       "66"
      ]
     },
     "execution_count": 4,
     "metadata": {},
     "output_type": "execute_result"
    }
   ],
   "source": [
    "filepath = '/Users/camigo/Documents/text_analysis/fullText_edited.csv'\n",
    "\n",
    "file = open(filepath, \"r\") \n",
    "fullText_edited = file.read() \n",
    "\n",
    "fullText_edited = fullText_edited_split.split(\",\")\n",
    "\n",
    "len(fullText_edited_split)"
   ]
  },
  {
   "cell_type": "markdown",
   "metadata": {},
   "source": [
    "### Lower case full text:"
   ]
  },
  {
   "cell_type": "code",
   "execution_count": null,
   "metadata": {},
   "outputs": [],
   "source": [
    "fullText_final = fullText_edited_split.lower()"
   ]
  },
  {
   "cell_type": "markdown",
   "metadata": {},
   "source": [
    "### Old Code"
   ]
  },
  {
   "cell_type": "code",
   "execution_count": 30,
   "metadata": {},
   "outputs": [],
   "source": [
    "#cleanFullText_split = cleanFullText.split(\"chapter\")\n",
    "#print (cleanFullText_split)"
   ]
  },
  {
   "cell_type": "code",
   "execution_count": 31,
   "metadata": {},
   "outputs": [],
   "source": [
    "#len(cleanFullText_split)"
   ]
  },
  {
   "cell_type": "code",
   "execution_count": 16,
   "metadata": {},
   "outputs": [],
   "source": [
    "#import csv\n",
    "#writer = csv.writer(open('chapters2.csv', 'wb'))\n",
    "#writer.writerow(cleanFullText_split)"
   ]
  },
  {
   "cell_type": "code",
   "execution_count": 18,
   "metadata": {},
   "outputs": [],
   "source": [
    "#fl = open('chapters','w')\n",
    "#for item in cleanFullText_split:\n",
    "#    fl.write('{0}\\n'.format(item))"
   ]
  },
  {
   "cell_type": "code",
   "execution_count": 21,
   "metadata": {},
   "outputs": [],
   "source": [
    "#for ii,item in enumerate(cleanFullText_split):\n",
    "#    fl=open('chapter{0}'.format(ii),'w')\n",
    "#    fl.write('{0}'.format(item))\n",
    "#    fl.close()"
   ]
  },
  {
   "cell_type": "code",
   "execution_count": null,
   "metadata": {},
   "outputs": [],
   "source": []
  }
 ],
 "metadata": {
  "kernelspec": {
   "display_name": "Python 2",
   "language": "python",
   "name": "python2"
  },
  "language_info": {
   "codemirror_mode": {
    "name": "ipython",
    "version": 2
   },
   "file_extension": ".py",
   "mimetype": "text/x-python",
   "name": "python",
   "nbconvert_exporter": "python",
   "pygments_lexer": "ipython2",
   "version": "2.7.10"
  }
 },
 "nbformat": 4,
 "nbformat_minor": 2
}
