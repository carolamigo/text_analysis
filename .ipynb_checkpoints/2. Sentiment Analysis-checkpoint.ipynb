{
 "cells": [
  {
   "cell_type": "markdown",
   "metadata": {},
   "source": [
    "# Text analysis with Python\n",
    "\n",
    "Sentiment Analysis and words counting using Open Collections metadata.\n",
    "\n",
    "Item: https://open.library.ubc.ca/collections/bcbooks/items/1.0222301\n",
    "\n",
    "Script to obtain the cleaned data: https://github.com/carolamigo/text_analysis/tree/master/.ipynb_checkpoints\n",
    "\n",
    "Adapted from:\n",
    "- http://nealcaren.web.unc.edu/an-introduction-to-text-analysis-with-python-part-3/\n",
    "- https://github.com/ubc-library/docs-open-collections-api/tree/master/iPython"
   ]
  },
  {
   "cell_type": "markdown",
   "metadata": {},
   "source": [
    "### Retrieving dictionary for sentiment analysis"
   ]
  },
  {
   "cell_type": "code",
   "execution_count": 35,
   "metadata": {},
   "outputs": [],
   "source": [
    "from __future__ import division\n",
    "import urllib\n",
    "import csv\n",
    "import matplotlib"
   ]
  },
  {
   "cell_type": "code",
   "execution_count": 26,
   "metadata": {},
   "outputs": [],
   "source": [
    "files=['negative.txt','positive.txt']\n",
    "path='http://www.unc.edu/~ncaren/haphazard/'\n",
    "for file_name in files:\n",
    "    urllib.urlretrieve(path+file_name,file_name)"
   ]
  },
  {
   "cell_type": "markdown",
   "metadata": {},
   "source": [
    "### Retrieving file with cleaned full text"
   ]
  },
  {
   "cell_type": "code",
   "execution_count": 4,
   "metadata": {},
   "outputs": [
    {
     "data": {
      "text/plain": [
       "65"
      ]
     },
     "execution_count": 4,
     "metadata": {},
     "output_type": "execute_result"
    }
   ],
   "source": [
    "#filepath = '/Users/camigo/Documents/text_analysis/only_fulltext.csv'\n",
    "\n",
    "filepath = '/Users/carolamigo/Documents/GitHub/text_analysis/fullText_edited.csv'\n",
    "\n",
    "file = open(filepath, \"r\") \n",
    "fullText_edited = file.read() \n",
    "\n",
    "fullText_edited_split = fullText_edited.split(\"\\n\")\n",
    "\n",
    "len(fullText_edited_split)"
   ]
  },
  {
   "cell_type": "code",
   "execution_count": 5,
   "metadata": {},
   "outputs": [],
   "source": [
    "ft_matrix = [ ln.split(\",\") for ln in fullText_edited_split ]"
   ]
  },
  {
   "cell_type": "markdown",
   "metadata": {},
   "source": [
    "### Counting positive and negative words"
   ]
  },
  {
   "cell_type": "code",
   "execution_count": 16,
   "metadata": {},
   "outputs": [],
   "source": [
    "#Loading dictionaries with positive and negative words\n",
    "pos_sent = open(\"positive.txt\").read()\n",
    "positive_words=pos_sent.split('\\n')\n",
    "positive_counts=[]\n",
    "\n",
    "neg_sent = open('negative.txt').read()\n",
    "negative_words=neg_sent.split('\\n')\n",
    "negative_counts=[]\n",
    "\n",
    "#counting positive and negative words\n",
    "for ln in ft_matrix[1:]:\n",
    "    txt = ln[0]\n",
    "    positive_counter=0\n",
    "    negative_counter=0\n",
    "    \n",
    "    words=txt.split(' ')\n",
    "    word_count=len(words)\n",
    "    for word in words:\n",
    "        if word in positive_words:\n",
    "            positive_counter = positive_counter+1\n",
    "        elif word in negative_words:\n",
    "            negative_counter = negative_counter+1\n",
    "        \n",
    "    positive_counts.append(positive_counter/word_count*100)\n",
    "    negative_counts.append(negative_counter/word_count*100)\n",
    "\n",
    "# output=zip(fullText_edited_split,positive_counts,negative_counts)\n",
    "\n",
    "# writer = csv.writer(open('fulltext_sentiment.csv', 'wb'))\n",
    "# writer.writerows(output)"
   ]
  },
  {
   "cell_type": "markdown",
   "metadata": {},
   "source": [
    "### Building matrix with results"
   ]
  },
  {
   "cell_type": "code",
   "execution_count": 19,
   "metadata": {},
   "outputs": [],
   "source": [
    "full_matrix = []\n",
    "full_matrix.append(ft_matrix[0])\n",
    "full_matrix[0].append('positive percent')\n",
    "full_matrix[0].append('negative percent')\n",
    "\n",
    "for ii in range(1,len(ft_matrix)):\n",
    "    full_line = ft_matrix[ii]\n",
    "    full_line.append(positive_counts[ii-1])\n",
    "    full_line.append(negative_counts[ii-1])\n",
    "    full_matrix.append(full_line)\n"
   ]
  },
  {
   "cell_type": "markdown",
   "metadata": {},
   "source": [
    "### Saving matrix to a file"
   ]
  },
  {
   "cell_type": "code",
   "execution_count": 29,
   "metadata": {},
   "outputs": [],
   "source": [
    "new_file = ''\n",
    "for ii in range(len(full_matrix)):\n",
    "    ln = full_matrix[ii]\n",
    "    for jj in range(len(ln)-1):\n",
    "        new_file = new_file + '{0},'.format(ln[jj])\n",
    "    new_file = new_file + '{0}\\n'.format(ln[-1])"
   ]
  },
  {
   "cell_type": "code",
   "execution_count": 30,
   "metadata": {},
   "outputs": [],
   "source": [
    "newfl = open('sentiment_matrix.csv','w')\n",
    "newfl.write(new_file)\n",
    "newfl.close()"
   ]
  },
  {
   "cell_type": "markdown",
   "metadata": {},
   "source": [
    "### Import Natural Language Toolkit"
   ]
  },
  {
   "cell_type": "code",
   "execution_count": 37,
   "metadata": {},
   "outputs": [
    {
     "name": "stdout",
     "output_type": "stream",
     "text": [
      "[nltk_data] Downloading package punkt to\n",
      "[nltk_data]     /Users/carolamigo/nltk_data...\n",
      "[nltk_data]   Unzipping tokenizers/punkt.zip.\n",
      "[nltk_data] Downloading package stopwords to\n",
      "[nltk_data]     /Users/carolamigo/nltk_data...\n",
      "[nltk_data]   Unzipping corpora/stopwords.zip.\n"
     ]
    }
   ],
   "source": [
    "import nltk # imports all the nltk basics\n",
    "nltk.download(\"punkt\") # Word tokenizer\n",
    "nltk.download(\"stopwords\") # Stop words\n",
    "from nltk import word_tokenize"
   ]
  },
  {
   "cell_type": "code",
   "execution_count": 53,
   "metadata": {},
   "outputs": [
    {
     "name": "stdout",
     "output_type": "stream",
     "text": [
      "['fulltext', 'many young men of what is commonly called the upper middle class yearly leave their country to seek fortune or to put the case more modestly subsistence in canada it has occurred to me having recently sent two sons to that country to publish some extracts from the letters in which they have described their experience and to say something about their preparations for this undertaking many parents will be glad i imagine to know how their sons should be equipped and what is the sort of life which they actually lead my two sons then when they left england vi introduction for canada were aged respectively eighteen years one month and sixteen years nine months and were both strong and well grown i mention this because many lads at the age of the younger of the two are quite unfit for the work which as will be seen fell upon them this lad was nearly as tall as his brother five feet eleven inches and almost his match in strength as the two were very closely attached to each other and i looked for much advantage to both from their continued companionship i did not like to separate them otherwise i should say that it would not be well to send out so young a lad they had been educated in the ordinary way at a grammar school and for a short time before their departure at university college london i can hardly say that any attempt had been made to specialize their education indeed the idea of emigrating though long cherished by them did not take 1 introduction vii any definite shape till but a few weeks before it was carried into execution if it had i am not sure whether i should have cared to divert their attention from their general instruction still i do not doubt that if they had realized the probability of their going to a country where both the french and german languages are spoken they might have applied themselves with more diligence to these studies when it had been determined that they should go they attended at the college a course of lectures on practical geology i very much regret that their teaching in this most valuable and interesting subject extended over so brief a time of matters that were likely to be practically useful they learnt at home some simple operations in cooking for instance how to make a suet pudding to boil potatoes and to make bread they received instruction from a shoemaker and under his supervision heeled soled vlll introduction and patched boots they also learnt how to mend a rent in a coat and to darn a hole in a stocking i am told and i can well believe that they lost much by missing what they might easily have got and what is indeed within the reach of most lads some practical instruction in farriery there was a forge close to their home where they might have learnt how to shoe horses and acquired some elementary knowledge of the ordinary diseases of the animal and of the remedies with which they are treated if more time had been available they might have attended classes at the veterinary college i am given to understand that even a very moderate skill in the veterinary art will be found one of the most profitable attainments that a lad can acquire they had the advantage of using a workshop belonging to a kind friend and neighbour here they had acquired some skill in carpentering enough to enable them in a rude 6 introduction ix kind of way to set up and even to construct their own beehives when it was settled that they were to go they received some practical instruction from a skilled carpenter they helped him to fence a field and to construct a wooden cow house and they worked under his supervision for some days at various miscellaneous jobs the lads had for several years before their departure lived in the country if one of the remoter suburbs of london can be called country here they had learnt something about gardening and especially about the pruning of fruit trees they had kept pigs which they managed themselves and they had also in a small way been bee masters when the plan of emigration was matured they attended the first course of lectures given by the ambulance association having for its subject first aid in cases of accident it x introduction is impossible to exaggerate the importance of this point i should strongly advise all parents to insist upon their sons acquiring some elementary knowledge of what should be done in an emergency before the arrival of professional aid often long delayed as one may easily imagine in a thinly populated country i say insist because they will probably find them unwilling or contemptuous as my sons certainly were young people seem to count upon an immunity from accident a delusion which their elders should not suffer to prevent them from acquiring the knowledge necessary for dealing with it in its first and most urgent needs there is no necessity for pointing out how often health or life may be saved by presence of mind guided by ever so little acquaintance with elementary medical facts when i add that the lads had received some lessons in riding they had not had it will have been seen introduction xi that thorough country breeding of which riding is a necessary part but that they were not so expert as they might advantageously have been i have said enough on this part of my subject they took with them fishing rods and tackle i should particularly recommend under this head a good stock of artificial bait in choosing a rod particular care should be taken that the wood should be suitable to the climate with its extremes of heat and cold and especially its dryness the tackle should not be too fine they had also each a gun it was a twelve bore sporting gun one barrel choke the other cylinder they had a box of games and a small chest with various medical appliances of the most necessary kind the list of the outfit which the two lads took with them is as follows it must be remembered that they started their life in a xll introduction gentleman s house and therefore wanted some things which might not in every case be required dress suit best tweed suit tennis suit one cloth suit of leather suiting extra trousers of ditto the three suits that they had in wear two pairs of corduroy trousers ulster coat pea jacket mackintosh dressing gown useful as an extra warm garment twelve flannel shirts two white shirts four pyjamas of flannel four pairs winter and summer drawers four vests twenty four pairs of socks six collars the flannel shirts being furnished with collars introduction xiii white cravats and cuffs cardigan two jerseys twelve pocket handkerchiefs some coarse coloured handkerchiefs might be obtained in canada six turkish towels waterproof sheet should be large and of the best quality blankets should be an undivided pair of large size and thick rug i six pairs of dress gloves three hedging and ditching ditto two pair canada mittens a housewife with buttons needles etc of all kinds saddlery needles included one pair of high boots others can be bought in canada pair of boots dress shoes pair of shoes not nailed pair of slippers ambulance braces helmet of jager wool xiv introduction cholera belt trunk which should be of a manageable size an indiarubber bath should have been added and some coarse cotton shirts portmanteau for cabin i must express my hearty thanks to mr a g bradley 22 great george street westminster by whose means my sons were settled in their first home i think that i may mention the names of the two tradesmen who supplied the outfit in a manner that has given satisfaction both here and in canada they have gained considerable experience in finding out what is really suitable for the needs of young men thus emigrating mr c t merryweather tailor and outfitter bridgegate east retford mr f t clark bootmaker same address it should be especially remembered that pieces for repair of garments should be sent introduction xv out also all old clothes available should be included and let everything be made large i may say that the total cost of outfit voyage and maintenance of the two lads for the first year also of taking up and stocking land has been less than 500 it may be done for a much smaller sum a j c contents part i ontario']\n"
     ]
    }
   ],
   "source": [
    "ft_col = []\n",
    "for row in full_matrix:\n",
    "    ft_col.append(row[0])\n",
    "    \n",
    "print ft_col[0:2]"
   ]
  },
  {
   "cell_type": "code",
   "execution_count": null,
   "metadata": {},
   "outputs": [],
   "source": [
    "totalTokens = []\n",
    "\n",
    "c = 0\n",
    "for fullText in full_matrix:\n",
    "    tokenisedText = word_tokenize(fullText)\n",
    "    totalTokens += tokenisedText\n",
    "    items[c]['words'] = tokenisedText\n",
    "    c = c + 1\n",
    "#print(tokens)\n",
    "len(totalTokens)"
   ]
  },
  {
   "cell_type": "markdown",
   "metadata": {},
   "source": [
    "### Item with most words"
   ]
  },
  {
   "cell_type": "code",
   "execution_count": null,
   "metadata": {},
   "outputs": [],
   "source": [
    "highestWordCount = 0;\n",
    "highestId= 0;\n",
    "\n",
    "for key, item in enumerate(items):\n",
    "    if(len(item['words']) > highestWordCount):\n",
    "        highestWordCount = len(item['words'])\n",
    "        highestId = key\n",
    "\n",
    "print(ocUrl+collection+'/items/'+items[highestId]['id'] + ' has the most words with ' + str(highestWordCount) + ' words')"
   ]
  }
 ],
 "metadata": {
  "kernelspec": {
   "display_name": "Python 2",
   "language": "python",
   "name": "python2"
  },
  "language_info": {
   "codemirror_mode": {
    "name": "ipython",
    "version": 2
   },
   "file_extension": ".py",
   "mimetype": "text/x-python",
   "name": "python",
   "nbconvert_exporter": "python",
   "pygments_lexer": "ipython2",
   "version": "2.7.10"
  }
 },
 "nbformat": 4,
 "nbformat_minor": 2
}
