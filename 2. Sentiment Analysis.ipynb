{
 "cells": [
  {
   "cell_type": "code",
   "execution_count": 1,
   "metadata": {},
   "outputs": [],
   "source": [
    "#adapted from http://nealcaren.web.unc.edu/an-introduction-to-text-analysis-with-python-part-3/"
   ]
  },
  {
   "cell_type": "markdown",
   "metadata": {},
   "source": [
    "## Retrieving dictionary"
   ]
  },
  {
   "cell_type": "code",
   "execution_count": 33,
   "metadata": {},
   "outputs": [
    {
     "ename": "ImportError",
     "evalue": "No module named pyplot",
     "output_type": "error",
     "traceback": [
      "\u001b[0;31m---------------------------------------------------------------------------\u001b[0m",
      "\u001b[0;31mImportError\u001b[0m                               Traceback (most recent call last)",
      "\u001b[0;32m<ipython-input-33-eb8930114128>\u001b[0m in \u001b[0;36m<module>\u001b[0;34m()\u001b[0m\n\u001b[1;32m      2\u001b[0m \u001b[0;32mimport\u001b[0m \u001b[0murllib\u001b[0m\u001b[0;34m\u001b[0m\u001b[0m\n\u001b[1;32m      3\u001b[0m \u001b[0;32mimport\u001b[0m \u001b[0mcsv\u001b[0m\u001b[0;34m\u001b[0m\u001b[0m\n\u001b[0;32m----> 4\u001b[0;31m \u001b[0;32mimport\u001b[0m \u001b[0mmatplotlib\u001b[0m\u001b[0;34m.\u001b[0m\u001b[0mpyplot\u001b[0m\u001b[0;34m\u001b[0m\u001b[0m\n\u001b[0m",
      "\u001b[0;31mImportError\u001b[0m: No module named pyplot"
     ]
    }
   ],
   "source": [
    "from __future__ import division\n",
    "import urllib\n",
    "import csv\n",
    "import matplotlib.pyplot"
   ]
  },
  {
   "cell_type": "code",
   "execution_count": 26,
   "metadata": {},
   "outputs": [],
   "source": [
    "files=['negative.txt','positive.txt']\n",
    "path='http://www.unc.edu/~ncaren/haphazard/'\n",
    "for file_name in files:\n",
    "    urllib.urlretrieve(path+file_name,file_name)"
   ]
  },
  {
   "cell_type": "markdown",
   "metadata": {},
   "source": [
    "## Retrieving file with cleaned full text"
   ]
  },
  {
   "cell_type": "code",
   "execution_count": 4,
   "metadata": {},
   "outputs": [
    {
     "data": {
      "text/plain": [
       "65"
      ]
     },
     "execution_count": 4,
     "metadata": {},
     "output_type": "execute_result"
    }
   ],
   "source": [
    "#filepath = '/Users/camigo/Documents/text_analysis/only_fulltext.csv'\n",
    "\n",
    "filepath = '/Users/carolamigo/Documents/GitHub/text_analysis/fullText_edited.csv'\n",
    "\n",
    "file = open(filepath, \"r\") \n",
    "fullText_edited = file.read() \n",
    "\n",
    "fullText_edited_split = fullText_edited.split(\"\\n\")\n",
    "\n",
    "len(fullText_edited_split)"
   ]
  },
  {
   "cell_type": "code",
   "execution_count": 5,
   "metadata": {},
   "outputs": [],
   "source": [
    "ft_matrix = [ ln.split(\",\") for ln in fullText_edited_split ]"
   ]
  },
  {
   "cell_type": "markdown",
   "metadata": {},
   "source": [
    "## Loading dictionaries with positive and negative words"
   ]
  },
  {
   "cell_type": "code",
   "execution_count": null,
   "metadata": {},
   "outputs": [],
   "source": []
  },
  {
   "cell_type": "markdown",
   "metadata": {},
   "source": [
    "## Counting positive and negative words"
   ]
  },
  {
   "cell_type": "code",
   "execution_count": 16,
   "metadata": {},
   "outputs": [],
   "source": [
    "pos_sent = open(\"positive.txt\").read()\n",
    "positive_words=pos_sent.split('\\n')\n",
    "positive_counts=[]\n",
    "\n",
    "neg_sent = open('negative.txt').read()\n",
    "negative_words=neg_sent.split('\\n')\n",
    "negative_counts=[]\n",
    "\n",
    "for ln in ft_matrix[1:]:\n",
    "    txt = ln[0]\n",
    "    positive_counter=0\n",
    "    negative_counter=0\n",
    "    \n",
    "    words=txt.split(' ')\n",
    "    word_count=len(words)\n",
    "    for word in words:\n",
    "        if word in positive_words:\n",
    "            positive_counter = positive_counter+1\n",
    "        elif word in negative_words:\n",
    "            negative_counter = negative_counter+1\n",
    "        \n",
    "    positive_counts.append(positive_counter/word_count*100)\n",
    "    negative_counts.append(negative_counter/word_count*100)\n",
    "\n",
    "# output=zip(fullText_edited_split,positive_counts,negative_counts)\n",
    "\n",
    "# writer = csv.writer(open('fulltext_sentiment.csv', 'wb'))\n",
    "# writer.writerows(output)"
   ]
  },
  {
   "cell_type": "code",
   "execution_count": 17,
   "metadata": {},
   "outputs": [
    {
     "data": {
      "text/plain": [
       "64"
      ]
     },
     "execution_count": 17,
     "metadata": {},
     "output_type": "execute_result"
    }
   ],
   "source": [
    "len(positive_counts)"
   ]
  },
  {
   "cell_type": "code",
   "execution_count": 18,
   "metadata": {},
   "outputs": [
    {
     "data": {
      "text/plain": [
       "65"
      ]
     },
     "execution_count": 18,
     "metadata": {},
     "output_type": "execute_result"
    }
   ],
   "source": [
    "len(ft_matrix)"
   ]
  },
  {
   "cell_type": "code",
   "execution_count": 19,
   "metadata": {},
   "outputs": [],
   "source": [
    "full_matrix = []\n",
    "full_matrix.append(ft_matrix[0])\n",
    "full_matrix[0].append('positive percent')\n",
    "full_matrix[0].append('negative percent')\n",
    "\n",
    "for ii in range(1,len(ft_matrix)):\n",
    "    full_line = ft_matrix[ii]\n",
    "    full_line.append(positive_counts[ii-1])\n",
    "    full_line.append(negative_counts[ii-1])\n",
    "    full_matrix.append(full_line)\n"
   ]
  },
  {
   "cell_type": "code",
   "execution_count": 29,
   "metadata": {},
   "outputs": [],
   "source": [
    "new_file = ''\n",
    "for ii in range(len(full_matrix)):\n",
    "    ln = full_matrix[ii]\n",
    "    for jj in range(len(ln)-1):\n",
    "        new_file = new_file + '{0},'.format(ln[jj])\n",
    "    new_file = new_file + '{0}\\n'.format(ln[-1])"
   ]
  },
  {
   "cell_type": "code",
   "execution_count": 30,
   "metadata": {},
   "outputs": [],
   "source": [
    "newfl = open('sentiment_matrix.csv','w')\n",
    "newfl.write(new_file)\n",
    "newfl.close()"
   ]
  },
  {
   "cell_type": "code",
   "execution_count": 24,
   "metadata": {},
   "outputs": [
    {
     "name": "stdout",
     "output_type": "stream",
     "text": [
      "['september at last we are through with our hay contract it has only got to be measured and paid for now we were awfully glad when it was finished and have been taking it easy ever since we have put up another three tons for ourselves and i have cut about ten tons more for a neighbour most of our time however since the 15th has been employed in shooting and fishing some of the fish we catch are being salted for the winter dick goes down regularly in the morning and catches about fifteen pounds of trout yesterday we both went and just at the south west corner of our place we found fresh deer trail and a few minutes later saw two deer unfortunately we only 222 rest after toil had shot guns with us and loaded with small shot so we had to leave them the ducks are now in full swing and the geese are beginning to show up also there are quite a number of prairie chickens around we ought to come out of our hay contract pretty well i think it has cost us about 150 in labour and provisions and we ought to get somewhere between 550 and 600 for it 1', 'xv our house work and play doing a hay contract rest after toil a misfortune', '1888', 'september', 'Alberta', 2.8708133971291865, 0.9569377990430622]\n"
     ]
    }
   ],
   "source": [
    "print full_matrix[63]"
   ]
  }
 ],
 "metadata": {
  "kernelspec": {
   "display_name": "Python 2",
   "language": "python",
   "name": "python2"
  },
  "language_info": {
   "codemirror_mode": {
    "name": "ipython",
    "version": 2
   },
   "file_extension": ".py",
   "mimetype": "text/x-python",
   "name": "python",
   "nbconvert_exporter": "python",
   "pygments_lexer": "ipython2",
   "version": "2.7.10"
  }
 },
 "nbformat": 4,
 "nbformat_minor": 2
}
