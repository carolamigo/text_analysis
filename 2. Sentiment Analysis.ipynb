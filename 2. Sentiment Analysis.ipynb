{
 "cells": [
  {
   "cell_type": "code",
   "execution_count": 2,
   "metadata": {},
   "outputs": [],
   "source": [
    "#adapted from http://nealcaren.web.unc.edu/an-introduction-to-text-analysis-with-python-part-3/"
   ]
  },
  {
   "cell_type": "markdown",
   "metadata": {},
   "source": [
    "## Retrieving dictionary"
   ]
  },
  {
   "cell_type": "code",
   "execution_count": 3,
   "metadata": {},
   "outputs": [],
   "source": [
    "from __future__ import division\n",
    "import urllib\n",
    "import csv"
   ]
  },
  {
   "cell_type": "code",
   "execution_count": 4,
   "metadata": {},
   "outputs": [],
   "source": [
    "files=['negative.txt','positive.txt']\n",
    "path='http://www.unc.edu/~ncaren/haphazard/'\n",
    "for file_name in files:\n",
    "    urllib.urlretrieve(path+file_name,file_name)"
   ]
  },
  {
   "cell_type": "markdown",
   "metadata": {},
   "source": [
    "## Retrieving file with cleaned full text"
   ]
  },
  {
   "cell_type": "code",
   "execution_count": 23,
   "metadata": {},
   "outputs": [
    {
     "data": {
      "text/plain": [
       "65"
      ]
     },
     "execution_count": 23,
     "metadata": {},
     "output_type": "execute_result"
    }
   ],
   "source": [
    "filepath = '/Users/camigo/Documents/text_analysis/only_fulltext.csv'\n",
    "\n",
    "file = open(filepath, \"r\") \n",
    "fullText_edited = file.read() \n",
    "\n",
    "fullText_edited_split = fullText_edited.split(\"\\n\")\n",
    "\n",
    "len(fullText_edited_split)"
   ]
  },
  {
   "cell_type": "markdown",
   "metadata": {},
   "source": [
    "## Loading dictionaries with positive and negative words"
   ]
  },
  {
   "cell_type": "code",
   "execution_count": 24,
   "metadata": {},
   "outputs": [],
   "source": [
    "pos_sent = open(\"positive.txt\").read()\n",
    "positive_words=pos_sent.split('\\n')\n",
    "positive_counts=[]\n",
    "\n",
    "neg_sent = open('negative.txt').read()\n",
    "negative_words=neg_sent.split('\\n')\n",
    "negative_counts=[]"
   ]
  },
  {
   "cell_type": "markdown",
   "metadata": {},
   "source": [
    "## Counting positive and negative words"
   ]
  },
  {
   "cell_type": "code",
   "execution_count": 25,
   "metadata": {},
   "outputs": [],
   "source": [
    "for chapter in fullText_edited_split:\n",
    "    positive_counter=0\n",
    "    negative_counter=0\n",
    "    \n",
    "    words=chapter.split(' ')\n",
    "    word_count=len(words)\n",
    "    for word in words:\n",
    "        if word in positive_words:\n",
    "            positive_counter=positive_counter+1\n",
    "        elif word in negative_words:\n",
    "            negative_counter=negative_counter+1\n",
    "        \n",
    "    positive_counts.append(positive_counter/word_count)\n",
    "    negative_counts.append(negative_counter/word_count)\n",
    "\n",
    "output=zip(fullText_edited_split,positive_counts,negative_counts)\n",
    "\n",
    "writer = csv.writer(open('fulltext_sentiment.csv', 'wb'))\n",
    "writer.writerows(output)"
   ]
  },
  {
   "cell_type": "code",
   "execution_count": null,
   "metadata": {},
   "outputs": [],
   "source": []
  }
 ],
 "metadata": {
  "kernelspec": {
   "display_name": "Python 2",
   "language": "python",
   "name": "python2"
  },
  "language_info": {
   "codemirror_mode": {
    "name": "ipython",
    "version": 2
   },
   "file_extension": ".py",
   "mimetype": "text/x-python",
   "name": "python",
   "nbconvert_exporter": "python",
   "pygments_lexer": "ipython2",
   "version": "2.7.10"
  }
 },
 "nbformat": 4,
 "nbformat_minor": 2
}
